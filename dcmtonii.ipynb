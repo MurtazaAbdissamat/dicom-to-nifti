{
 "cells": [
  {
   "cell_type": "code",
   "execution_count": null,
   "id": "23d43e2e",
   "metadata": {},
   "outputs": [],
   "source": [
    "import dicom2nifti\n",
    "import os\n",
    "from glob import glob"
   ]
  },
  {
   "cell_type": "code",
   "execution_count": null,
   "id": "eb3006b8",
   "metadata": {},
   "outputs": [],
   "source": [
    "# dcm formatindagi filedardin joli   test/patient_1,patient_2,patient_3,patient_4\n",
    "path = 'D:/Tez data/*'\n",
    "# nii formatinda saktalatin joli output_images/images_0,images_1,images_2,images_3,\n",
    "output_path = 'D:/Tez data/'\n",
    "\n",
    "#dicom2nifti.dicom_series_to_nifti(path, os.path.join(output_path,'segmentasyon.nii'))\n",
    "for i, file in enumerate(glob(path)):\n",
    "    dicom2nifti.dicom_series_to_nifti(file, os.path.join(output_path,'images_'+ str(i) +'.nii'))\n"
   ]
  },
  {
   "cell_type": "code",
   "execution_count": 6,
   "id": "605bf616",
   "metadata": {},
   "outputs": [],
   "source": [
    "import gzip\n",
    "import os\n",
    "\n",
    "# Set the path to the directory containing the .nii files\n",
    "dir_path = \"D:/Tez data/practice/pytorch_segmentation 20/images/\"\n",
    "\n",
    "# Use a loop to iterate over the .nii files in the directory\n",
    "for filename in os.listdir(dir_path):\n",
    "    if filename.endswith(\".nii\"):\n",
    "        # Open the .nii file for reading\n",
    "        with open(os.path.join(dir_path, filename), \"rb\") as f:\n",
    "            # Create a gzip object\n",
    "            gzip_file = gzip.open(os.path.splitext(filename)[0] + \".nii.gz\", \"wb\")\n",
    "\n",
    "            # Read the data from the .nii file\n",
    "            while True:\n",
    "                data = f.read(4096)\n",
    "                if not data:\n",
    "                    break\n",
    "                gzip_file.write(data)\n",
    "\n",
    "            # Close the gzip file\n",
    "            gzip_file.close()"
   ]
  },
  {
   "cell_type": "code",
   "execution_count": 2,
   "id": "7645292f",
   "metadata": {},
   "outputs": [],
   "source": [
    "import gzip\n",
    "import os\n",
    "\n",
    "# Set the path to the directory containing the .nii files\n",
    "dir_path = \"D:/Tez data/practice/liver_segmentation — копия/Dataset/nii_volume/\"\n",
    "\n",
    "# Use a loop to iterate over the .nii files in the directory\n",
    "for filename in os.listdir(dir_path):\n",
    "    if filename.endswith(\".nii\"):\n",
    "        # Open the .nii file for reading\n",
    "        with open(os.path.join(dir_path, filename), \"rb\") as f:\n",
    "            # Create a gzip object\n",
    "            gzip_file = gzip.open(os.path.splitext(filename)[0] + \".nii.gz\", \"wb\")\n",
    "\n",
    "            # Read the data from the .nii file\n",
    "            while True:\n",
    "                data = f.read(4096)\n",
    "                if not data:\n",
    "                    break\n",
    "                gzip_file.write(data)\n",
    "\n",
    "            # Close the gzip file\n",
    "            gzip_file.close()\n"
   ]
  },
  {
   "cell_type": "code",
   "execution_count": null,
   "id": "89e15530",
   "metadata": {},
   "outputs": [],
   "source": []
  }
 ],
 "metadata": {
  "kernelspec": {
   "display_name": "Python 3 (ipykernel)",
   "language": "python",
   "name": "python3"
  },
  "language_info": {
   "codemirror_mode": {
    "name": "ipython",
    "version": 3
   },
   "file_extension": ".py",
   "mimetype": "text/x-python",
   "name": "python",
   "nbconvert_exporter": "python",
   "pygments_lexer": "ipython3",
   "version": "3.8.16"
  }
 },
 "nbformat": 4,
 "nbformat_minor": 5
}
